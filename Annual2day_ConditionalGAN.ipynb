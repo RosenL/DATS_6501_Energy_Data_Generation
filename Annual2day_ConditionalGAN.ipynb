{
 "cells": [
  {
   "cell_type": "code",
   "execution_count": 1,
   "metadata": {},
   "outputs": [
    {
     "name": "stderr",
     "output_type": "stream",
     "text": [
      "E:\\Ana\\lib\\site-packages\\h5py\\__init__.py:34: FutureWarning: Conversion of the second argument of issubdtype from `float` to `np.floating` is deprecated. In future, it will be treated as `np.float64 == np.dtype(float).type`.\n",
      "  from ._conv import register_converters as _register_converters\n"
     ]
    }
   ],
   "source": [
    "import numpy as np\n",
    "import pandas as pd\n",
    "import sklearn \n",
    "import seaborn as sns\n",
    "import matplotlib.pyplot as plt\n",
    "from sklearn.model_selection import train_test_split\n",
    "from sklearn.preprocessing import MinMaxScaler\n",
    "from sklearn.preprocessing import StandardScaler\n",
    "import tensorflow as tf\n",
    "tf.enable_eager_execution()"
   ]
  },
  {
   "cell_type": "code",
   "execution_count": 2,
   "metadata": {
    "collapsed": true
   },
   "outputs": [],
   "source": [
    "annual_data_PSTexas = pd.read_pickle(\"./Datapreprocess/PreprocessedData/annual_data_PSTexas.pickle\")\n",
    "hourly_data_PSTexas_ID = np.load('./Datapreprocess/hourly_data_PSTexas_HouseholdID.npy')\n",
    "daily_data_PSTexas_data=np.load('./daily_data_PSTexas_data.npy')"
   ]
  },
  {
   "cell_type": "code",
   "execution_count": 9,
   "metadata": {
    "collapsed": true
   },
   "outputs": [],
   "source": [
    "#make the annual data match the daily data\n",
    "annual_data_PSTexas_data=[]\n",
    "for i in hourly_data_PSTexas_ID:\n",
    "    annual_data_PSTexas_data.append(annual_data_PSTexas[annual_data_PSTexas['HouseholdID']==i].iloc[:,1:].values)\n",
    "annual_data_PSTexas_data=np.array(annual_data_PSTexas_data)"
   ]
  },
  {
   "cell_type": "code",
   "execution_count": 13,
   "metadata": {},
   "outputs": [],
   "source": [
    "nums=daily_data_PSTexas_data.shape[0]"
   ]
  },
  {
   "cell_type": "code",
   "execution_count": 14,
   "metadata": {
    "scrolled": true
   },
   "outputs": [
    {
     "name": "stderr",
     "output_type": "stream",
     "text": [
      "E:\\Ana\\lib\\site-packages\\sklearn\\utils\\validation.py:475: DataConversionWarning: Data with input dtype object was converted to float64 by StandardScaler.\n",
      "  warnings.warn(msg, DataConversionWarning)\n"
     ]
    }
   ],
   "source": [
    "SD_Daily = StandardScaler()\n",
    "daily_data_PSTexas_SD = SD_Daily.fit(daily_data_PSTexas_data.reshape(nums,-1)).transform(daily_data_PSTexas_data.reshape(nums,-1))"
   ]
  },
  {
   "cell_type": "code",
   "execution_count": 15,
   "metadata": {},
   "outputs": [],
   "source": [
    "SD_Annualy = StandardScaler()\n",
    "annual_data_PSTexas_SD = SD_Annualy.fit(annual_data_PSTexas_data.reshape(nums,-1)).transform(annual_data_PSTexas_data.reshape(nums,-1))"
   ]
  },
  {
   "cell_type": "markdown",
   "metadata": {},
   "source": [
    "from sklearn.externals import joblib\n",
    "joblib.dump(SD_Annualy,'./Scaler/SD_annual_bf_C_gen')\n",
    "joblib.dump(SD_Daily,'./Scaler/SD_daily')"
   ]
  },
  {
   "cell_type": "code",
   "execution_count": 10,
   "metadata": {
    "collapsed": true
   },
   "outputs": [],
   "source": [
    "def randomV(batch_size,feature_nums):\n",
    "    return tf.random_normal((batch_size,feature_nums),0.0,0.01,dtype='float64')\n",
    "\n",
    "def input_fn(df,batch_size):\n",
    "    dataset = tf.data.Dataset.from_tensor_slices(df)\n",
    "    dataset= dataset.repeat(10)\n",
    "    dataset = dataset.shuffle(400)\n",
    "    dataset = dataset.batch(batch_size)\n",
    "    return dataset\n",
    "\n",
    "\n",
    "class C_generator(tf.keras.Model):\n",
    "    def __init__(self):\n",
    "        super().__init__()\n",
    "        self.encoder_dense1 = tf.keras.layers.Dense(32)\n",
    "        self.encoder_bh1 = tf.keras.layers.BatchNormalization()\n",
    "        self.encoder_dense2 = tf.keras.layers.Dense(64)\n",
    "        self.encoder_bh2 = tf.keras.layers.BatchNormalization()\n",
    "        self.encoder_dense3 = tf.keras.layers.Dense(128)\n",
    "        self.encoder_bh3 = tf.keras.layers.BatchNormalization()\n",
    "        self.encoder_dense4 = tf.keras.layers.Dense(256)\n",
    "        self.encoder_bh4 = tf.keras.layers.BatchNormalization()\n",
    "        self.encoder_dense5 = tf.keras.layers.Dense(512)\n",
    "        self.encoder_bh5 = tf.keras.layers.BatchNormalization()\n",
    "        self.encoder_dense6 = tf.keras.layers.Dense(1024)\n",
    "        self.encoder_bh6 = tf.keras.layers.BatchNormalization()\n",
    "        self.encoder_dense7 = tf.keras.layers.Dense(2048)\n",
    "        self.encoder_bh7 = tf.keras.layers.BatchNormalization()\n",
    "        self.encoder_dense8 = tf.keras.layers.Dense(5475)\n",
    "\n",
    "    def call(self,x,is_training):\n",
    "        x=self.encoder_dense1(x)\n",
    "        x=self.encoder_bh1(x,training=is_training)\n",
    "        x= tf.nn.leaky_relu(x)\n",
    "        #x=tf.nn.sigmoid(x)\n",
    "        #x=tf.nn.tanh(x)\n",
    "        x=self.encoder_dense2(x)\n",
    "        x=self.encoder_bh2(x,training=is_training)\n",
    "        x= tf.nn.leaky_relu(x)\n",
    "        #x=tf.nn.sigmoid(x)\n",
    "        #x=tf.nn.tanh(x)\n",
    "        x=self.encoder_dense3(x)\n",
    "        x=self.encoder_bh3(x,training=is_training)\n",
    "        x= tf.nn.leaky_relu(x)\n",
    "        #x=tf.nn.sigmoid(x)\n",
    "        #x=tf.nn.tanh(x)\n",
    "        x=self.encoder_dense4(x)\n",
    "        x=self.encoder_bh4(x,training=is_training)\n",
    "        x= tf.nn.leaky_relu(x)\n",
    "        #x=tf.nn.sigmoid(x)\n",
    "        #x=tf.nn.tanh(x)\n",
    "        x=self.encoder_dense5(x)\n",
    "        x=self.encoder_bh5(x,training=is_training)\n",
    "        x= tf.nn.leaky_relu(x)\n",
    "        #x=tf.nn.sigmoid(x)\n",
    "        #x=tf.nn.tanh(x)\n",
    "        x=self.encoder_dense6(x)\n",
    "        x=self.encoder_bh6(x,training=is_training)\n",
    "        x= tf.nn.leaky_relu(x)\n",
    "        #x=tf.nn.sigmoid(x)\n",
    "        #x=tf.nn.tanh(x)\n",
    "        x=self.encoder_dense7(x)\n",
    "        x=self.encoder_bh7(x,training=is_training)\n",
    "        x= tf.nn.leaky_relu(x)\n",
    "        #x=tf.nn.sigmoid(x)\n",
    "        #x=tf.nn.tanh(x)\n",
    "        x=self.encoder_dense8(x)\n",
    "        return x\n",
    "    \n",
    "class C_discriminator(tf.keras.Model):\n",
    "    def __init__(self):\n",
    "        super().__init__()\n",
    "\n",
    "        \n",
    "        self.dis_dense4 = tf.keras.layers.Dense(2048)\n",
    "        self.dis_bh4 = tf.keras.layers.BatchNormalization()\n",
    "        self.dis_dense5 = tf.keras.layers.Dense(1024)\n",
    "        self.dis_bh5 = tf.keras.layers.BatchNormalization()\n",
    "        self.dis_dense6 = tf.keras.layers.Dense(512)\n",
    "        self.dis_bh6 = tf.keras.layers.BatchNormalization()\n",
    "        self.dis_dense7 = tf.keras.layers.Dense(128) \n",
    "        self.dis_bh7 = tf.keras.layers.BatchNormalization()\n",
    "        self.dis_dense8 = tf.keras.layers.Dense(64) \n",
    "        self.dis_bh8 = tf.keras.layers.BatchNormalization()\n",
    "        self.dis_dense9 = tf.keras.layers.Dense(32) \n",
    "        self.dis_bh9 = tf.keras.layers.BatchNormalization()\n",
    "        self.dis_dense10 = tf.keras.layers.Dense(15) \n",
    "        self.dis_bh10 = tf.keras.layers.BatchNormalization()\n",
    "        self.dis_dense11 = tf.keras.layers.Dense(256) \n",
    "        self.dis_bh11 = tf.keras.layers.BatchNormalization()\n",
    "        self.dis_dense12 = tf.keras.layers.Dense(512) \n",
    "        self.dis_bh12 = tf.keras.layers.BatchNormalization()\n",
    "        self.dis_dense13 = tf.keras.layers.Dense(256) \n",
    "        self.dis_bh13 = tf.keras.layers.BatchNormalization()\n",
    "        self.dis_dense14 = tf.keras.layers.Dense(128) \n",
    "        self.dis_bh14 = tf.keras.layers.BatchNormalization()        \n",
    "        self.dis_dense15 = tf.keras.layers.Dense(32) \n",
    "        self.dis_bh15 = tf.keras.layers.BatchNormalization()        \n",
    "        self.dis_dense16 = tf.keras.layers.Dense(16) \n",
    "        self.dis_bh16 = tf.keras.layers.BatchNormalization()  \n",
    "        self.dis_dense17 = tf.keras.layers.Dense(1) \n",
    "    def call(self,x,y,is_training):\n",
    "        x=self.dis_dense4(x)\n",
    "        x=self.dis_bh4(x,training=is_training)\n",
    "        #x= tf.nn.leaky_relu(x)\n",
    "        x=tf.nn.sigmoid(x)\n",
    "        x=self.dis_dense5(x)\n",
    "        x=self.dis_bh5(x,training=is_training)\n",
    "        #x= tf.nn.leaky_relu(x)\n",
    "        x=self.dis_dense6(x)\n",
    "        x=self.dis_bh6(x,training=is_training)\n",
    "        #x= tf.nn.leaky_relu(x)\n",
    "        x=self.dis_dense7(x)\n",
    "        x=self.dis_bh7(x,training=is_training)\n",
    "       # x= tf.nn.leaky_relu(x)\n",
    "#''' x=self.dis_dense8(x)\n",
    " #       x=self.dis_bh8(x,training=is_training)\n",
    "  #      x= tf.nn.leaky_relu(x)\n",
    "   #     x=self.dis_dense9(x)\n",
    "    #x=self.dis_bh9(x,training=is_training)\n",
    "     #   x= tf.nn.leaky_relu(x)\n",
    "      #  x=self.dis_dense10(x)\n",
    "       # x=self.dis_bh10(x,training=is_training)\n",
    "        #x= tf.nn.leaky_relu(x)\n",
    "\n",
    "        x= tf.concat([tf.reshape(tf.to_float(x),[-1,128]),tf.reshape(tf.to_float(y),[-1,15])],1)\n",
    "        x=self.dis_dense11(x)\n",
    "        x=self.dis_bh11(x,training=is_training)\n",
    "        #x= tf.nn.leaky_relu(x)\n",
    "        x=self.dis_dense12(x)\n",
    "        x=self.dis_bh12(x,training=is_training)\n",
    "        #x= tf.nn.leaky_relu(x)        \n",
    "        x=self.dis_dense13(x)\n",
    "        x=self.dis_bh13(x,training=is_training)\n",
    "        #x= tf.nn.leaky_relu(x)\n",
    "        x=self.dis_dense14(x)\n",
    "        x=self.dis_bh14(x,training=is_training)\n",
    "        #x= tf.nn.leaky_relu(x)\n",
    "        x=self.dis_dense15(x)\n",
    "        x=self.dis_bh15(x,training=is_training)\n",
    "        #x= tf.nn.leaky_relu(x)\n",
    "        x=self.dis_dense16(x)\n",
    "        x=self.dis_bh16(x,training=is_training)\n",
    "        x= tf.nn.leaky_relu(x)\n",
    "        x=self.dis_dense17(x)\n",
    "        \n",
    "        return x \n",
    "    \n",
    "class C_discriminator_Conv(tf.keras.Model):\n",
    "    def __init__(self):\n",
    "        super().__init__()\n",
    "\n",
    "        self.dis_conv1=tf.keras.layers.Conv2D(32,(31,1))\n",
    "        self.dis_bh_c1 = tf.keras.layers.BatchNormalization()\n",
    "        self.dis_conv2=tf.keras.layers.Conv2D(32,(31,1))\n",
    "        self.dis_bh_c2 = tf.keras.layers.BatchNormalization()\n",
    "        self.dis_conv3=tf.keras.layers.Conv2D(64,(31,1))\n",
    "        self.dis_bh_c3 = tf.keras.layers.BatchNormalization()\n",
    "        self.dis_conv4=tf.keras.layers.Conv2D(64,(31,1))\n",
    "        self.dis_bh_c4 = tf.keras.layers.BatchNormalization()\n",
    "        self.dis_conv5=tf.keras.layers.Conv2D(128,(31,1)) \n",
    "        self.dis_bh_c5 = tf.keras.layers.BatchNormalization()\n",
    "        self.dis_conv6=tf.keras.layers.Conv2D(64,(31,1))\n",
    "        self.dis_bh_c6 = tf.keras.layers.BatchNormalization()\n",
    "        self.dis_conv7=tf.keras.layers.Conv2D(32,(31,1))\n",
    "        self.dis_bh_c7 = tf.keras.layers.BatchNormalization()\n",
    "        self.dis_conv8=tf.keras.layers.Conv2D(32,(31,1))\n",
    "        self.dis_bh_c8 = tf.keras.layers.BatchNormalization()\n",
    "        self.dis_conv9=tf.keras.layers.Conv2D(32,(31,1))\n",
    "        self.dis_bh_c9 = tf.keras.layers.BatchNormalization()\n",
    "        self.dis_conv10=tf.keras.layers.Conv2D(16,(31,1))\n",
    "        self.dis_bh_c10 = tf.keras.layers.BatchNormalization()\n",
    "        self.dis_conv11=tf.keras.layers.Conv2D(8,(31,1)) \n",
    "        self.dis_bh_c11 = tf.keras.layers.BatchNormalization()\n",
    "        self.dis_conv12=tf.keras.layers.Conv2D(4,(31,1)) \n",
    "        self.dis_bh_c12 = tf.keras.layers.BatchNormalization()\n",
    "        self.dis_conv13=tf.keras.layers.Conv2D(1,(5,1))\n",
    "        self.dis_bh_c13 = tf.keras.layers.BatchNormalization()\n",
    "        \n",
    "        \n",
    "        self.dis_dense11 = tf.keras.layers.Dense(256) \n",
    "        self.dis_bh11 = tf.keras.layers.BatchNormalization()\n",
    "        self.dis_dense12 = tf.keras.layers.Dense(512) \n",
    "        self.dis_bh12 = tf.keras.layers.BatchNormalization()\n",
    "        self.dis_dense13 = tf.keras.layers.Dense(256) \n",
    "        self.dis_bh13 = tf.keras.layers.BatchNormalization()\n",
    "        self.dis_dense14 = tf.keras.layers.Dense(128) \n",
    "        self.dis_bh14 = tf.keras.layers.BatchNormalization()        \n",
    "        self.dis_dense15 = tf.keras.layers.Dense(32) \n",
    "        self.dis_bh15 = tf.keras.layers.BatchNormalization()        \n",
    "        self.dis_dense16 = tf.keras.layers.Dense(16) \n",
    "        self.dis_bh16 = tf.keras.layers.BatchNormalization()  \n",
    "        self.dis_dense17 = tf.keras.layers.Dense(1) \n",
    "    def call(self,x,y,is_training):\n",
    "        x = tf.reshape(x,[batch_size, 365,15,-1])\n",
    "        x=tf.to_float(x)\n",
    "        x=self.dis_conv1(x)\n",
    "        #x=self.dis_bh_c1(x,training=is_training)\n",
    "        x= tf.nn.leaky_relu(x)\n",
    "        x=self.dis_conv2(x)\n",
    "        #x=self.dis_bh_c2(x,training=is_training)\n",
    "        x= tf.nn.leaky_relu(x)\n",
    "        x=self.dis_conv3(x)\n",
    "        #x=self.dis_bh_c3(x,training=is_training)\n",
    "        x= tf.nn.leaky_relu(x)\n",
    "        x=self.dis_conv4(x)\n",
    "        x=self.dis_bh_c4(x,training=is_training)\n",
    "        x= tf.nn.leaky_relu(x)\n",
    "        x=self.dis_conv5(x)\n",
    "        #x=self.dis_bh_c5(x,training=is_training)\n",
    "        x= tf.nn.leaky_relu(x)\n",
    "        x=self.dis_conv6(x)\n",
    "        #x=self.dis_bh_c6(x,training=is_training)\n",
    "        x= tf.nn.leaky_relu(x)\n",
    "        x=self.dis_conv7(x)\n",
    "        #x=self.dis_bh_c7(x,training=is_training)\n",
    "        x= tf.nn.leaky_relu(x)\n",
    "        x=self.dis_conv8(x)\n",
    "        #x=self.dis_bh_c8(x,training=is_training)\n",
    "        x= tf.nn.leaky_relu(x)\n",
    "        x=self.dis_conv9(x)\n",
    "        #x=self.dis_bh_c9(x,training=is_training)\n",
    "        x= tf.nn.leaky_relu(x)\n",
    "        x=self.dis_conv10(x)\n",
    "        x=self.dis_bh_c10(x,training=is_training)\n",
    "        x= tf.nn.leaky_relu(x)\n",
    "        x=self.dis_conv11(x)\n",
    "        #x=self.dis_bh_c11(x,training=is_training)\n",
    "        x= tf.nn.leaky_relu(x)\n",
    "        x=self.dis_conv12(x)\n",
    "        #x=self.dis_bh_c12(x,training=is_training)\n",
    "        x= tf.nn.leaky_relu(x)\n",
    "\n",
    "        x=self.dis_conv13(x)\n",
    "        #x=self.dis_bh_c13(x,training=is_training)\n",
    "        x= tf.nn.leaky_relu(x)\n",
    "#''' x=self.dis_dense8(x)\n",
    " #       x=self.dis_bh8(x,training=is_training)\n",
    "  #      x= tf.nn.leaky_relu(x)\n",
    "   #     x=self.dis_dense9(x)\n",
    "    #x=self.dis_bh9(x,training=is_training)\n",
    "     #   x= tf.nn.leaky_relu(x)\n",
    "      #  x=self.dis_dense10(x)\n",
    "       # x=self.dis_bh10(x,training=is_training)\n",
    "        #x= tf.nn.leaky_relu(x)\n",
    "\n",
    "        x= tf.concat([tf.reshape(tf.to_float(x),[-1,15]),tf.reshape(tf.to_float(y),[-1,15])],1)\n",
    "        x=self.dis_dense11(x)\n",
    "        x=self.dis_bh11(x,training=is_training)\n",
    "        x= tf.nn.leaky_relu(x)\n",
    "        x=self.dis_dense12(x)\n",
    "        x=self.dis_bh12(x,training=is_training)\n",
    "        x= tf.nn.leaky_relu(x)        \n",
    "        x=self.dis_dense13(x)\n",
    "        x=self.dis_bh13(x,training=is_training)\n",
    "        x= tf.nn.leaky_relu(x)\n",
    "        x=self.dis_dense14(x)\n",
    "        x=self.dis_bh14(x,training=is_training)\n",
    "        x= tf.nn.leaky_relu(x)\n",
    "        x=self.dis_dense15(x)\n",
    "        x=self.dis_bh15(x,training=is_training)\n",
    "        x= tf.nn.leaky_relu(x)\n",
    "        x=self.dis_dense16(x)\n",
    "        x=self.dis_bh16(x,training=is_training)\n",
    "        x= tf.nn.leaky_relu(x)\n",
    "        x=self.dis_dense17(x)\n",
    "        \n",
    "        return x "
   ]
  },
  {
   "cell_type": "code",
   "execution_count": 27,
   "metadata": {},
   "outputs": [
    {
     "data": {
      "text/plain": [
       "array([[ True,  True,  True, ...,  True,  True,  True],\n",
       "       [ True,  True,  True, ...,  True,  True,  True],\n",
       "       [ True,  True,  True, ...,  True,  True,  True],\n",
       "       ...,\n",
       "       [ True,  True,  True, ...,  True,  True,  True],\n",
       "       [ True,  True,  True, ...,  True,  True,  True],\n",
       "       [ True,  True,  True, ...,  True,  True,  True]])"
      ]
     },
     "execution_count": 27,
     "metadata": {},
     "output_type": "execute_result"
    }
   ],
   "source": [
    "tf.reshape(daily_data,[-1,365,15])[0].numpy()==tf.reshape(daily_data[0],[365,15]).numpy()"
   ]
  },
  {
   "cell_type": "code",
   "execution_count": 55,
   "metadata": {
    "collapsed": true
   },
   "outputs": [],
   "source": [
    "xx=tf.reshape(daily_data,[20, 365,15,-1])"
   ]
  },
  {
   "cell_type": "code",
   "execution_count": 34,
   "metadata": {},
   "outputs": [
    {
     "data": {
      "text/plain": [
       "array([[1.40807968e+01, 0.00000000e+00, 1.17847472e-01, ...,\n",
       "        0.00000000e+00, 0.00000000e+00, 1.03251154e+01],\n",
       "       [8.76260714e+00, 0.00000000e+00, 5.63799442e-02, ...,\n",
       "        0.00000000e+00, 0.00000000e+00, 9.60183473e+00],\n",
       "       [1.21310498e+01, 0.00000000e+00, 6.01323633e-02, ...,\n",
       "        0.00000000e+00, 0.00000000e+00, 7.85782006e+00],\n",
       "       ...,\n",
       "       [9.41969395e+00, 0.00000000e+00, 2.38942811e+00, ...,\n",
       "        0.00000000e+00, 0.00000000e+00, 1.23726185e+01],\n",
       "       [1.42556057e+01, 0.00000000e+00, 9.80980188e-03, ...,\n",
       "        0.00000000e+00, 0.00000000e+00, 1.10435398e+01],\n",
       "       [5.99332363e+00, 0.00000000e+00, 6.22315001e-03, ...,\n",
       "        0.00000000e+00, 0.00000000e+00, 1.10228997e+01]])"
      ]
     },
     "execution_count": 34,
     "metadata": {},
     "output_type": "execute_result"
    }
   ],
   "source": [
    "daily_data_PSTexas_SD.reshape(-1,365,15)[200]*256"
   ]
  },
  {
   "cell_type": "code",
   "execution_count": 40,
   "metadata": {
    "scrolled": false
   },
   "outputs": [
    {
     "data": {
      "image/png": "[encoded data removed]",
      "text/plain": [
       "<matplotlib.figure.Figure at 0x17e1dfea9b0>"
      ]
     },
     "metadata": {},
     "output_type": "display_data"
    }
   ],
   "source": [
    "plt.figure(figsize=(10,100))\n",
    "plt.imshow((daily_data_PSTexas_SD.reshape(-1,365,15)[30]*512).astype(int))\n",
    "plt.show()"
   ]
  },
  {
   "cell_type": "code",
   "execution_count": 13,
   "metadata": {},
   "outputs": [
    {
     "name": "stdout",
     "output_type": "stream",
     "text": [
      "Epoch 00001: C_L2_losses: 1.01234, C_gen_loss: 0.73502, C_dis_loss: 1.74159\n",
      "Epoch 00011: C_L2_losses: 2.05968, C_gen_loss: 0.71352, C_dis_loss: 1.39356\n",
      "Epoch 00021: C_L2_losses: 1.46987, C_gen_loss: 0.73637, C_dis_loss: 1.28798\n",
      "Epoch 00031: C_L2_losses: 1.97868, C_gen_loss: 0.64918, C_dis_loss: 1.42713\n",
      "Epoch 00041: C_L2_losses: 0.62109, C_gen_loss: 0.74788, C_dis_loss: 1.31786\n",
      "Epoch 00051: C_L2_losses: 0.84802, C_gen_loss: 0.76408, C_dis_loss: 1.19564\n",
      "Epoch 00061: C_L2_losses: 0.84024, C_gen_loss: 0.73365, C_dis_loss: 1.30445\n",
      "Epoch 00071: C_L2_losses: 2.17292, C_gen_loss: 0.64502, C_dis_loss: 1.30908\n",
      "Epoch 00081: C_L2_losses: 1.62497, C_gen_loss: 0.82976, C_dis_loss: 1.36357\n",
      "Epoch 00091: C_L2_losses: 1.68695, C_gen_loss: 0.84730, C_dis_loss: 1.18043\n",
      "Epoch 00101: C_L2_losses: 1.13567, C_gen_loss: 0.75124, C_dis_loss: 1.26842\n",
      "Epoch 00111: C_L2_losses: 1.29543, C_gen_loss: 1.00905, C_dis_loss: 1.05913\n",
      "Epoch 00121: C_L2_losses: 0.92678, C_gen_loss: 0.74102, C_dis_loss: 1.36370\n",
      "Epoch 00131: C_L2_losses: 0.61461, C_gen_loss: 1.24735, C_dis_loss: 1.11422\n",
      "Epoch 00141: C_L2_losses: 0.89995, C_gen_loss: 0.59540, C_dis_loss: 1.41521\n",
      "Epoch 00151: C_L2_losses: 0.87131, C_gen_loss: 0.93893, C_dis_loss: 1.14036\n",
      "Epoch 00161: C_L2_losses: 0.98269, C_gen_loss: 0.83599, C_dis_loss: 1.62798\n",
      "Epoch 00171: C_L2_losses: 0.56078, C_gen_loss: 1.25537, C_dis_loss: 1.33101\n",
      "Epoch 00181: C_L2_losses: 0.55298, C_gen_loss: 0.67614, C_dis_loss: 1.19716\n",
      "Epoch 00191: C_L2_losses: 0.63050, C_gen_loss: 0.96029, C_dis_loss: 1.31699\n",
      "Epoch 00201: C_L2_losses: 0.66509, C_gen_loss: 0.63570, C_dis_loss: 1.60564\n",
      "Epoch 00211: C_L2_losses: 1.32840, C_gen_loss: 0.75073, C_dis_loss: 1.43722\n",
      "Epoch 00221: C_L2_losses: 0.57224, C_gen_loss: 0.89151, C_dis_loss: 1.34246\n",
      "Epoch 00231: C_L2_losses: 0.77168, C_gen_loss: 0.91053, C_dis_loss: 1.15945\n",
      "Epoch 00241: C_L2_losses: 0.77070, C_gen_loss: 0.90887, C_dis_loss: 1.24978\n",
      "Epoch 00251: C_L2_losses: 0.99938, C_gen_loss: 1.27344, C_dis_loss: 1.38935\n",
      "Epoch 00261: C_L2_losses: 0.45789, C_gen_loss: 1.09072, C_dis_loss: 1.48423\n",
      "Epoch 00271: C_L2_losses: 0.71268, C_gen_loss: 0.66826, C_dis_loss: 1.41696\n",
      "Epoch 00281: C_L2_losses: 0.47998, C_gen_loss: 0.61575, C_dis_loss: 1.45048\n",
      "Epoch 00291: C_L2_losses: 0.49037, C_gen_loss: 0.80074, C_dis_loss: 1.29689\n",
      "Epoch 00301: C_L2_losses: 0.41131, C_gen_loss: 0.64158, C_dis_loss: 1.28465\n",
      "Epoch 00311: C_L2_losses: 0.64763, C_gen_loss: 0.64600, C_dis_loss: 1.28500\n",
      "Epoch 00321: C_L2_losses: 0.54575, C_gen_loss: 0.88055, C_dis_loss: 1.34762\n",
      "Epoch 00331: C_L2_losses: 0.51242, C_gen_loss: 0.78166, C_dis_loss: 1.29046\n",
      "Epoch 00341: C_L2_losses: 0.62279, C_gen_loss: 0.76569, C_dis_loss: 1.32591\n",
      "Epoch 00351: C_L2_losses: 0.46679, C_gen_loss: 0.70481, C_dis_loss: 1.25648\n",
      "Epoch 00361: C_L2_losses: 0.42232, C_gen_loss: 0.72535, C_dis_loss: 1.52493\n",
      "Epoch 00371: C_L2_losses: 0.52385, C_gen_loss: 0.68673, C_dis_loss: 1.35199\n",
      "Epoch 00381: C_L2_losses: 0.69476, C_gen_loss: 0.71291, C_dis_loss: 1.30194\n",
      "Epoch 00391: C_L2_losses: 0.46813, C_gen_loss: 0.65333, C_dis_loss: 1.36312\n",
      "Epoch 00401: C_L2_losses: 0.39663, C_gen_loss: 0.78088, C_dis_loss: 1.25813\n",
      "Epoch 00411: C_L2_losses: 0.61588, C_gen_loss: 0.98465, C_dis_loss: 1.38562\n",
      "Epoch 00421: C_L2_losses: 0.60883, C_gen_loss: 0.84533, C_dis_loss: 1.35233\n",
      "Epoch 00431: C_L2_losses: 0.52129, C_gen_loss: 0.55634, C_dis_loss: 1.49807\n",
      "Epoch 00441: C_L2_losses: 0.69950, C_gen_loss: 0.88443, C_dis_loss: 1.45780\n",
      "Epoch 00451: C_L2_losses: 0.43722, C_gen_loss: 0.70783, C_dis_loss: 1.43346\n",
      "Epoch 00461: C_L2_losses: 0.50638, C_gen_loss: 0.97794, C_dis_loss: 1.09813\n",
      "Epoch 00471: C_L2_losses: 0.47088, C_gen_loss: 0.52009, C_dis_loss: 1.42792\n",
      "Epoch 00481: C_L2_losses: 0.61823, C_gen_loss: 0.81612, C_dis_loss: 1.10080\n",
      "Epoch 00491: C_L2_losses: 0.74357, C_gen_loss: 0.64722, C_dis_loss: 1.20679\n",
      "Epoch 00501: C_L2_losses: 0.83596, C_gen_loss: 1.39095, C_dis_loss: 0.80800\n",
      "Epoch 00511: C_L2_losses: 0.49869, C_gen_loss: 1.36506, C_dis_loss: 0.70410\n",
      "Epoch 00521: C_L2_losses: 0.80104, C_gen_loss: 1.65265, C_dis_loss: 0.94875\n",
      "Epoch 00531: C_L2_losses: 0.92284, C_gen_loss: 1.59700, C_dis_loss: 0.60692\n",
      "Epoch 00541: C_L2_losses: 0.42037, C_gen_loss: 0.52430, C_dis_loss: 1.31334\n",
      "Epoch 00551: C_L2_losses: 0.55246, C_gen_loss: 0.80583, C_dis_loss: 1.96184\n",
      "Epoch 00561: C_L2_losses: 0.55672, C_gen_loss: 0.70825, C_dis_loss: 1.58362\n",
      "Epoch 00571: C_L2_losses: 0.64979, C_gen_loss: 0.43240, C_dis_loss: 1.62353\n",
      "Epoch 00581: C_L2_losses: 0.89307, C_gen_loss: 1.87172, C_dis_loss: 0.40105\n",
      "Epoch 00591: C_L2_losses: 0.80016, C_gen_loss: 1.74405, C_dis_loss: 0.47013\n",
      "Epoch 00601: C_L2_losses: 0.64198, C_gen_loss: 1.89067, C_dis_loss: 0.50241\n",
      "Epoch 00611: C_L2_losses: 0.49760, C_gen_loss: 2.26811, C_dis_loss: 0.21366\n",
      "Epoch 00621: C_L2_losses: 0.49742, C_gen_loss: 2.00085, C_dis_loss: 0.22822\n",
      "Epoch 00631: C_L2_losses: 0.96974, C_gen_loss: 2.94301, C_dis_loss: 0.12723\n",
      "Epoch 00641: C_L2_losses: 0.48950, C_gen_loss: 2.85347, C_dis_loss: 0.11780\n",
      "Epoch 00651: C_L2_losses: 1.08658, C_gen_loss: 3.09951, C_dis_loss: 0.08179\n",
      "Epoch 00661: C_L2_losses: 0.63096, C_gen_loss: 3.27158, C_dis_loss: 0.07765\n",
      "Epoch 00671: C_L2_losses: 1.36135, C_gen_loss: 2.58945, C_dis_loss: 1.85106\n",
      "Epoch 00681: C_L2_losses: 0.55802, C_gen_loss: 2.17893, C_dis_loss: 0.25814\n",
      "Epoch 00691: C_L2_losses: 0.62040, C_gen_loss: 2.44869, C_dis_loss: 0.10719\n",
      "Epoch 00701: C_L2_losses: 0.35323, C_gen_loss: 2.31915, C_dis_loss: 0.13801\n",
      "Epoch 00711: C_L2_losses: 0.74400, C_gen_loss: 2.90101, C_dis_loss: 0.08206\n",
      "Epoch 00721: C_L2_losses: 0.60148, C_gen_loss: 0.47982, C_dis_loss: 1.14842\n",
      "Epoch 00731: C_L2_losses: 0.70434, C_gen_loss: 3.52222, C_dis_loss: 0.36024\n",
      "Epoch 00741: C_L2_losses: 0.65055, C_gen_loss: 3.24551, C_dis_loss: 0.13634\n",
      "Epoch 00751: C_L2_losses: 0.59176, C_gen_loss: 3.20173, C_dis_loss: 0.06784\n",
      "Epoch 00761: C_L2_losses: 0.49173, C_gen_loss: 3.66685, C_dis_loss: 0.07233\n",
      "Epoch 00771: C_L2_losses: 0.62013, C_gen_loss: 2.16836, C_dis_loss: 0.20469\n",
      "Epoch 00781: C_L2_losses: 0.67083, C_gen_loss: 2.39569, C_dis_loss: 0.16806\n",
      "Epoch 00791: C_L2_losses: 0.67645, C_gen_loss: 3.21728, C_dis_loss: 0.11404\n",
      "Epoch 00801: C_L2_losses: 0.98001, C_gen_loss: 2.58247, C_dis_loss: 0.48315\n",
      "Epoch 00811: C_L2_losses: 0.64188, C_gen_loss: 4.02548, C_dis_loss: 0.06047\n",
      "Epoch 00821: C_L2_losses: 0.71834, C_gen_loss: 3.01297, C_dis_loss: 0.09294\n",
      "Epoch 00831: C_L2_losses: 0.62487, C_gen_loss: 3.58672, C_dis_loss: 0.21801\n",
      "Epoch 00841: C_L2_losses: 0.53771, C_gen_loss: 3.69717, C_dis_loss: 0.03513\n",
      "Epoch 00851: C_L2_losses: 0.86773, C_gen_loss: 3.66773, C_dis_loss: 0.03511\n",
      "Epoch 00861: C_L2_losses: 0.59521, C_gen_loss: 3.52427, C_dis_loss: 0.03763\n",
      "Epoch 00871: C_L2_losses: 0.64727, C_gen_loss: 3.88454, C_dis_loss: 0.03099\n",
      "Epoch 00881: C_L2_losses: 0.50241, C_gen_loss: 4.26369, C_dis_loss: 0.02693\n",
      "Epoch 00891: C_L2_losses: 0.66881, C_gen_loss: 4.27239, C_dis_loss: 0.02051\n",
      "Epoch 00901: C_L2_losses: 0.87478, C_gen_loss: 4.50555, C_dis_loss: 0.01865\n",
      "Epoch 00911: C_L2_losses: 0.83772, C_gen_loss: 4.07329, C_dis_loss: 0.02567\n",
      "Epoch 00921: C_L2_losses: 0.69126, C_gen_loss: 4.82230, C_dis_loss: 0.01506\n",
      "Epoch 00931: C_L2_losses: 0.52440, C_gen_loss: 4.25036, C_dis_loss: 0.02185\n",
      "Epoch 00941: C_L2_losses: 0.53508, C_gen_loss: 4.86639, C_dis_loss: 0.01821\n",
      "Epoch 00951: C_L2_losses: 0.42473, C_gen_loss: 4.83032, C_dis_loss: 0.01353\n",
      "Epoch 00961: C_L2_losses: 0.81502, C_gen_loss: 3.84725, C_dis_loss: 0.02974\n",
      "Epoch 00971: C_L2_losses: 0.46736, C_gen_loss: 4.88536, C_dis_loss: 0.01689\n",
      "Epoch 00981: C_L2_losses: 0.63235, C_gen_loss: 4.00053, C_dis_loss: 0.02365\n",
      "Epoch 00991: C_L2_losses: 0.55602, C_gen_loss: 4.84742, C_dis_loss: 0.01434\n",
      "Epoch 01001: C_L2_losses: 0.34785, C_gen_loss: 4.57361, C_dis_loss: 0.01425\n",
      "Epoch 01011: C_L2_losses: 0.43677, C_gen_loss: 5.00152, C_dis_loss: 0.00984\n",
      "Epoch 01021: C_L2_losses: 0.49186, C_gen_loss: 5.03282, C_dis_loss: 0.00915\n",
      "Epoch 01031: C_L2_losses: 0.71838, C_gen_loss: 4.97306, C_dis_loss: 0.01137\n",
      "Epoch 01041: C_L2_losses: 0.77743, C_gen_loss: 5.01669, C_dis_loss: 0.00975\n",
      "Epoch 01051: C_L2_losses: 0.89771, C_gen_loss: 5.11506, C_dis_loss: 0.01443\n",
      "Epoch 01061: C_L2_losses: 1.07656, C_gen_loss: 5.09912, C_dis_loss: 0.00934\n",
      "Epoch 01071: C_L2_losses: 0.59994, C_gen_loss: 4.85495, C_dis_loss: 0.01845\n"
     ]
    },
    {
     "name": "stdout",
     "output_type": "stream",
     "text": [
      "Epoch 01081: C_L2_losses: 0.79796, C_gen_loss: 4.62895, C_dis_loss: 0.05082\n",
      "Epoch 01091: C_L2_losses: 1.34198, C_gen_loss: 0.67867, C_dis_loss: 1.89611\n",
      "Epoch 01101: C_L2_losses: 0.57819, C_gen_loss: 0.51798, C_dis_loss: 1.28341\n",
      "Epoch 01111: C_L2_losses: 0.57764, C_gen_loss: 0.52268, C_dis_loss: 1.65364\n",
      "Epoch 01121: C_L2_losses: 0.54585, C_gen_loss: 0.94349, C_dis_loss: 1.05441\n",
      "Epoch 01131: C_L2_losses: 0.78447, C_gen_loss: 0.35988, C_dis_loss: 1.84915\n",
      "Epoch 01141: C_L2_losses: 0.95695, C_gen_loss: 0.60512, C_dis_loss: 2.23047\n",
      "Epoch 01151: C_L2_losses: 1.19832, C_gen_loss: 0.77421, C_dis_loss: 1.36385\n",
      "Epoch 01161: C_L2_losses: 0.54445, C_gen_loss: 0.50091, C_dis_loss: 2.00480\n",
      "Epoch 01171: C_L2_losses: 0.74831, C_gen_loss: 2.08554, C_dis_loss: 0.57311\n",
      "Epoch 01181: C_L2_losses: 0.90176, C_gen_loss: 0.79119, C_dis_loss: 0.90471\n",
      "Epoch 01191: C_L2_losses: 0.88194, C_gen_loss: 3.46661, C_dis_loss: 0.36889\n",
      "Epoch 01201: C_L2_losses: 1.10330, C_gen_loss: 3.50721, C_dis_loss: 0.07519\n",
      "Epoch 01211: C_L2_losses: 0.63218, C_gen_loss: 3.40386, C_dis_loss: 0.05057\n",
      "Epoch 01221: C_L2_losses: 0.46593, C_gen_loss: 2.85678, C_dis_loss: 0.07477\n",
      "Epoch 01231: C_L2_losses: 0.58880, C_gen_loss: 2.98785, C_dis_loss: 0.06374\n",
      "Epoch 01241: C_L2_losses: 0.64437, C_gen_loss: 3.98980, C_dis_loss: 0.05739\n",
      "Epoch 01251: C_L2_losses: 0.69204, C_gen_loss: 4.36412, C_dis_loss: 0.05985\n",
      "Epoch 01261: C_L2_losses: 0.87484, C_gen_loss: 3.16918, C_dis_loss: 0.11664\n",
      "Epoch 01271: C_L2_losses: 1.00668, C_gen_loss: 3.33906, C_dis_loss: 0.11947\n",
      "Epoch 01281: C_L2_losses: 1.62785, C_gen_loss: 2.91935, C_dis_loss: 0.43548\n",
      "Epoch 01291: C_L2_losses: 0.85932, C_gen_loss: 1.65584, C_dis_loss: 0.30182\n",
      "Epoch 01301: C_L2_losses: 0.48479, C_gen_loss: 5.23775, C_dis_loss: 0.14952\n",
      "Epoch 01311: C_L2_losses: 2.56021, C_gen_loss: 1.01415, C_dis_loss: 0.92882\n",
      "Epoch 01321: C_L2_losses: 0.95743, C_gen_loss: 5.09912, C_dis_loss: 0.11017\n",
      "Epoch 01331: C_L2_losses: 0.71452, C_gen_loss: 3.67731, C_dis_loss: 0.04371\n",
      "Epoch 01341: C_L2_losses: 1.10770, C_gen_loss: 3.31348, C_dis_loss: 0.04194\n",
      "Epoch 01351: C_L2_losses: 0.75597, C_gen_loss: 0.70510, C_dis_loss: 1.12911\n",
      "Epoch 01361: C_L2_losses: 1.28535, C_gen_loss: 5.62466, C_dis_loss: 0.78843\n",
      "Epoch 01371: C_L2_losses: 1.64718, C_gen_loss: 5.58537, C_dis_loss: 0.66774\n",
      "Epoch 01381: C_L2_losses: 0.85067, C_gen_loss: 1.29404, C_dis_loss: 0.58608\n",
      "Epoch 01391: C_L2_losses: 1.02359, C_gen_loss: 4.50407, C_dis_loss: 0.04710\n",
      "Epoch 01401: C_L2_losses: 0.82038, C_gen_loss: 4.02972, C_dis_loss: 0.03594\n",
      "Epoch 01411: C_L2_losses: 1.18403, C_gen_loss: 1.14961, C_dis_loss: 0.49639\n",
      "Epoch 01421: C_L2_losses: 0.62967, C_gen_loss: 4.22590, C_dis_loss: 0.05761\n",
      "Epoch 01431: C_L2_losses: 0.83609, C_gen_loss: 3.35391, C_dis_loss: 0.10659\n",
      "Epoch 01441: C_L2_losses: 0.81544, C_gen_loss: 4.18166, C_dis_loss: 0.09569\n",
      "Epoch 01451: C_L2_losses: 0.98840, C_gen_loss: 4.82056, C_dis_loss: 0.11100\n",
      "Epoch 01461: C_L2_losses: 0.65190, C_gen_loss: 4.51486, C_dis_loss: 0.04713\n",
      "Epoch 01471: C_L2_losses: 0.79554, C_gen_loss: 4.70317, C_dis_loss: 0.02600\n",
      "Epoch 01481: C_L2_losses: 0.79244, C_gen_loss: 4.81482, C_dis_loss: 0.02740\n",
      "Epoch 01491: C_L2_losses: 0.48360, C_gen_loss: 4.75329, C_dis_loss: 0.04664\n",
      "Epoch 01501: C_L2_losses: 0.85845, C_gen_loss: 3.84334, C_dis_loss: 0.03328\n",
      "Epoch 01511: C_L2_losses: 1.53466, C_gen_loss: 4.19054, C_dis_loss: 0.03671\n",
      "Epoch 01521: C_L2_losses: 0.88905, C_gen_loss: 4.60389, C_dis_loss: 0.01996\n",
      "Epoch 01531: C_L2_losses: 0.96737, C_gen_loss: 4.70477, C_dis_loss: 0.02237\n",
      "Epoch 01541: C_L2_losses: 0.39221, C_gen_loss: 4.27008, C_dis_loss: 0.02180\n",
      "Epoch 01551: C_L2_losses: 0.98363, C_gen_loss: 4.54324, C_dis_loss: 0.01672\n",
      "Epoch 01561: C_L2_losses: 0.65426, C_gen_loss: 4.39836, C_dis_loss: 0.02113\n",
      "Epoch 01571: C_L2_losses: 0.46556, C_gen_loss: 4.55417, C_dis_loss: 0.01574\n",
      "Epoch 01581: C_L2_losses: 0.37577, C_gen_loss: 4.55382, C_dis_loss: 0.01612\n",
      "Epoch 01591: C_L2_losses: 0.71504, C_gen_loss: 4.76044, C_dis_loss: 0.01361\n",
      "Epoch 01601: C_L2_losses: 0.45723, C_gen_loss: 4.78095, C_dis_loss: 0.01754\n",
      "Epoch 01611: C_L2_losses: 0.65169, C_gen_loss: 4.79351, C_dis_loss: 0.01431\n",
      "Epoch 01621: C_L2_losses: 0.37094, C_gen_loss: 4.82915, C_dis_loss: 0.01494\n",
      "Epoch 01631: C_L2_losses: 0.52658, C_gen_loss: 4.76807, C_dis_loss: 0.01646\n",
      "Epoch 01641: C_L2_losses: 0.67050, C_gen_loss: 4.59860, C_dis_loss: 0.01444\n",
      "Epoch 01651: C_L2_losses: 0.78872, C_gen_loss: 4.17366, C_dis_loss: 0.02224\n",
      "Epoch 01661: C_L2_losses: 0.53004, C_gen_loss: 4.71733, C_dis_loss: 0.01645\n",
      "Epoch 01671: C_L2_losses: 0.64276, C_gen_loss: 4.25530, C_dis_loss: 0.02286\n",
      "Epoch 01681: C_L2_losses: 0.80611, C_gen_loss: 4.73396, C_dis_loss: 0.02220\n",
      "Epoch 01691: C_L2_losses: 0.39734, C_gen_loss: 2.93167, C_dis_loss: 0.14397\n",
      "Epoch 01701: C_L2_losses: 1.00509, C_gen_loss: 4.72618, C_dis_loss: 0.03336\n",
      "Epoch 01711: C_L2_losses: 0.87782, C_gen_loss: 5.34738, C_dis_loss: 0.07782\n",
      "Epoch 01721: C_L2_losses: 0.91857, C_gen_loss: 2.17408, C_dis_loss: 0.17003\n",
      "Epoch 01731: C_L2_losses: 0.57151, C_gen_loss: 4.11257, C_dis_loss: 0.02872\n",
      "Epoch 01741: C_L2_losses: 0.51637, C_gen_loss: 5.23597, C_dis_loss: 0.02397\n",
      "Epoch 01751: C_L2_losses: 1.15328, C_gen_loss: 5.37859, C_dis_loss: 0.07309\n",
      "Epoch 01761: C_L2_losses: 0.90425, C_gen_loss: 5.52677, C_dis_loss: 0.01891\n",
      "Epoch 01771: C_L2_losses: 0.57805, C_gen_loss: 5.47122, C_dis_loss: 0.01494\n",
      "Epoch 01781: C_L2_losses: 0.61126, C_gen_loss: 5.31831, C_dis_loss: 0.01450\n",
      "Epoch 01791: C_L2_losses: 0.50618, C_gen_loss: 5.26777, C_dis_loss: 0.01569\n",
      "Epoch 01801: C_L2_losses: 0.57849, C_gen_loss: 5.31014, C_dis_loss: 0.01232\n",
      "Epoch 01811: C_L2_losses: 0.49676, C_gen_loss: 5.37305, C_dis_loss: 0.00856\n",
      "Epoch 01821: C_L2_losses: 0.45559, C_gen_loss: 5.35451, C_dis_loss: 0.00924\n",
      "Epoch 01831: C_L2_losses: 0.65466, C_gen_loss: 5.34772, C_dis_loss: 0.01214\n",
      "Epoch 01841: C_L2_losses: 0.57891, C_gen_loss: 5.34619, C_dis_loss: 0.01079\n",
      "Epoch 01851: C_L2_losses: 1.07575, C_gen_loss: 5.38301, C_dis_loss: 0.01767\n",
      "Epoch 01861: C_L2_losses: 0.44471, C_gen_loss: 5.27845, C_dis_loss: 0.01706\n",
      "Epoch 01871: C_L2_losses: 1.58470, C_gen_loss: 6.28402, C_dis_loss: 0.54475\n",
      "Epoch 01881: C_L2_losses: 0.76641, C_gen_loss: 5.49583, C_dis_loss: 0.12101\n",
      "Epoch 01891: C_L2_losses: 0.64071, C_gen_loss: 4.63735, C_dis_loss: 0.01826\n",
      "Epoch 01901: C_L2_losses: 0.49324, C_gen_loss: 4.50116, C_dis_loss: 0.02314\n",
      "Epoch 01911: C_L2_losses: 0.57512, C_gen_loss: 4.53130, C_dis_loss: 0.04263\n",
      "Epoch 01921: C_L2_losses: 0.82036, C_gen_loss: 4.40497, C_dis_loss: 0.02204\n",
      "Epoch 01931: C_L2_losses: 0.56037, C_gen_loss: 4.29514, C_dis_loss: 0.01645\n",
      "Epoch 01941: C_L2_losses: 0.52098, C_gen_loss: 4.42328, C_dis_loss: 0.01585\n",
      "Epoch 01951: C_L2_losses: 0.86280, C_gen_loss: 4.63658, C_dis_loss: 0.02727\n",
      "Epoch 01961: C_L2_losses: 1.01185, C_gen_loss: 5.11225, C_dis_loss: 0.20445\n",
      "Epoch 01971: C_L2_losses: 0.54595, C_gen_loss: 5.95266, C_dis_loss: 0.01418\n",
      "Epoch 01981: C_L2_losses: 0.78229, C_gen_loss: 5.53197, C_dis_loss: 0.01099\n",
      "Epoch 01991: C_L2_losses: 0.59248, C_gen_loss: 5.81764, C_dis_loss: 0.01315\n"
     ]
    }
   ],
   "source": [
    "epoch = 2000\n",
    "learning_rate = 0.01\n",
    "batch_size = 20\n",
    "training_data=input_fn((annual_data_PSTexas_SD,daily_data_PSTexas_SD),batch_size)\n",
    "C_gen=C_generator()\n",
    "C_dis=C_discriminator_Conv()\n",
    "C_gen_optimizer = tf.train.AdamOptimizer(learning_rate)\n",
    "C_dis_optimizer = tf.train.AdamOptimizer(learning_rate)\n",
    "C_gen_losses = []\n",
    "C_dis_losses = []\n",
    "C_L2_losses = []\n",
    "\n",
    "is_training = True\n",
    "for i in range(epoch):\n",
    "\n",
    "            annual_data,daily_data = training_data.make_one_shot_iterator().get_next()\n",
    "\n",
    "            with tf.GradientTape() as C_gen_tap, tf.GradientTape() as C_dis_tap:\n",
    "                daily_gen= C_gen(annual_data+randomV(batch_size,15),is_training)\n",
    "                dis_fake = C_dis(daily_gen,annual_data,is_training)\n",
    "                dis_real = C_dis(daily_data,annual_data,is_training)\n",
    "                \n",
    "                L2_loss =tf.cast(tf.losses.mean_squared_error(daily_data,daily_gen),'float32' )\n",
    "                dis_loss =( tf.losses.sigmoid_cross_entropy(multi_class_labels=tf.ones_like(dis_real),logits=dis_real)+\n",
    "                        tf.losses.sigmoid_cross_entropy(multi_class_labels=tf.zeros_like(dis_fake),logits=dis_fake) )\n",
    "                #DY_loss = tf.reduce_mean(tf.log(1-Dis_Y)+tf.log(Dis_Y_gen))\n",
    "                gen_dis_loss = tf.losses.sigmoid_cross_entropy(multi_class_labels=tf.ones_like(dis_fake),logits=dis_fake)\n",
    "                gen_loss =( gen_dis_loss\n",
    "                           +13*L2_loss)\n",
    "            gen_grad = C_gen_tap.gradient(gen_loss,C_gen.variables)\n",
    "            dis_grad = C_dis_tap.gradient(dis_loss,C_dis.variables)\n",
    "            \n",
    "\n",
    "\n",
    "            C_gen_optimizer.apply_gradients(zip(gen_grad,C_gen.variables))\n",
    "            C_dis_optimizer.apply_gradients(zip(dis_grad,C_dis.variables))\n",
    "            C_L2_losses.append(L2_loss)\n",
    "            C_gen_losses.append(gen_dis_loss )\n",
    "            C_dis_losses.append(dis_loss)\n",
    "  \n",
    "            if i % 10 == 0 :\n",
    "                print('Epoch {:05d}: C_L2_losses: {:.5f}, C_gen_loss: {:.5f}, C_dis_loss: {:.5f}'.format(i + 1,L2_loss,gen_dis_loss,dis_loss))    "
   ]
  },
  {
   "cell_type": "markdown",
   "metadata": {},
   "source": [
    "# save model"
   ]
  },
  {
   "cell_type": "markdown",
   "metadata": {},
   "source": [
    "### Fully connected model"
   ]
  },
  {
   "cell_type": "code",
   "execution_count": 64,
   "metadata": {
    "collapsed": true
   },
   "outputs": [],
   "source": [
    "checkpoint_C_gen = tf.train.Checkpoint(C_gen=C_gen)\n",
    "checkpoint_C_dis=tf.train.Checkpoint(C_dis=C_dis)\n"
   ]
  },
  {
   "cell_type": "code",
   "execution_count": 65,
   "metadata": {},
   "outputs": [
    {
     "data": {
      "text/plain": [
       "'./Model/C_dis-1'"
      ]
     },
     "execution_count": 65,
     "metadata": {},
     "output_type": "execute_result"
    }
   ],
   "source": [
    "checkpoint_C_gen.save('./Model/C_gen')\n",
    "checkpoint_C_dis.save('./Model/C_dis')"
   ]
  },
  {
   "cell_type": "code",
   "execution_count": 66,
   "metadata": {
    "collapsed": true
   },
   "outputs": [],
   "source": [
    "np.save('./Loss/C_gen_losses.npy',np.array(C_gen_losses))\n",
    "np.save('./Loss/C_dis_losses.npy',np.array(C_dis_losses))"
   ]
  },
  {
   "cell_type": "markdown",
   "metadata": {},
   "source": [
    "### Convolutional model"
   ]
  },
  {
   "cell_type": "code",
   "execution_count": 14,
   "metadata": {
    "collapsed": true
   },
   "outputs": [],
   "source": [
    "checkpoint_C_gen = tf.train.Checkpoint(C_gen=C_gen)\n",
    "checkpoint_C_dis=tf.train.Checkpoint(C_dis=C_dis)"
   ]
  },
  {
   "cell_type": "code",
   "execution_count": 15,
   "metadata": {},
   "outputs": [
    {
     "data": {
      "text/plain": [
       "'./Model/C_dis_conv-1'"
      ]
     },
     "execution_count": 15,
     "metadata": {},
     "output_type": "execute_result"
    }
   ],
   "source": [
    "checkpoint_C_gen.save('./Model/C_gen_conv')\n",
    "checkpoint_C_dis.save('./Model/C_dis_conv')"
   ]
  },
  {
   "cell_type": "code",
   "execution_count": 16,
   "metadata": {
    "collapsed": true
   },
   "outputs": [],
   "source": [
    "np.save('./Loss/C_gen_dis_conv_losses.npy',np.array(C_gen_losses))\n",
    "np.save('./Loss/C_dis_conv_losses.npy',np.array(C_dis_losses))\n",
    "np.save('./Loss/C_L2_conv_losses',np.array(C_L2_losses))"
   ]
  },
  {
   "cell_type": "markdown",
   "metadata": {},
   "source": [
    "# restore model"
   ]
  },
  {
   "cell_type": "code",
   "execution_count": null,
   "metadata": {
    "collapsed": true
   },
   "outputs": [],
   "source": [
    "C_gen=C_generator()\n",
    "C_dis=C_discriminator()\n",
    "\n",
    "checkpoint_C_gen = tf.train.Checkpoint(C_gen=C_gen)\n",
    "checkpoint_C_dis=tf.train.Checkpoint(C_dis=C_dis)"
   ]
  },
  {
   "cell_type": "code",
   "execution_count": null,
   "metadata": {
    "collapsed": true
   },
   "outputs": [],
   "source": [
    "checkpoint_C_gen.restore('./Model/C_gen')\n",
    "checkpoint_C_dis.restore('./Model/C_dis')"
   ]
  },
  {
   "cell_type": "code",
   "execution_count": null,
   "metadata": {
    "collapsed": true
   },
   "outputs": [],
   "source": []
  },
  {
   "cell_type": "code",
   "execution_count": null,
   "metadata": {
    "collapsed": true
   },
   "outputs": [],
   "source": []
  }
 ],
 "metadata": {
  "kernelspec": {
   "display_name": "Python 3",
   "language": "python",
   "name": "python3"
  },
  "language_info": {
   "codemirror_mode": {
    "name": "ipython",
    "version": 3
   },
   "file_extension": ".py",
   "mimetype": "text/x-python",
   "name": "python",
   "nbconvert_exporter": "python",
   "pygments_lexer": "ipython3",
   "version": "3.6.3"
  }
 },
 "nbformat": 4,
 "nbformat_minor": 2
}
